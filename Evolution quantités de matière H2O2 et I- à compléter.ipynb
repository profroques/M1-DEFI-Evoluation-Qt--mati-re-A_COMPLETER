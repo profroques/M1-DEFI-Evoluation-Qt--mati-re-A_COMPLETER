{
 "cells": [
  {
   "cell_type": "markdown",
   "metadata": {},
   "source": [
    "<h2>Dans le premier bloc ci-dessous, remplacer les $$ par une saisie adaptée.</h2>"
   ]
  },
  {
   "cell_type": "code",
   "execution_count": null,
   "metadata": {},
   "outputs": [],
   "source": [
    "$$ #importation du module pyplot de bibliothèque matplotlib sous forme d'alias plt\n",
    "\n",
    "#déclaration des nombres stoechiométriques des réactifs\n",
    "a =$$   #coefficient pour l'eau oxygénée\n",
    "b =$$   #coefficient pour les ions iodure\n",
    "c =$$   #coefficient pour le diiode\n",
    "\n",
    "\n",
    "#déclaration des variables associées aux quantités de matière initiales \n",
    "# de H2O2, I- et I2 en mol\n",
    "$$\n",
    "$$\n",
    "$$\n"
   ]
  },
  {
   "cell_type": "markdown",
   "metadata": {},
   "source": [
    "<h2>Dans le deuxième bloc ci-dessous, remplacer les $$ par une saisie adaptée pour initialiser des listes associées aux quantités de matière d'eau oxygénée, des ions iodures et diiode.</h2>"
   ]
  },
  {
   "cell_type": "code",
   "execution_count": null,
   "metadata": {},
   "outputs": [],
   "source": [
    "#création de liste associées aux quantités de matière en mol\n",
    "liste_H2O2 = [$$]\n",
    "liste_iodure = [$$]\n",
    "liste_diiode = [$$]\n",
    "\n",
    "#à propos de l'avancement\n",
    "dx = 5E-5 #incrément de l'avancement en mol\n"
   ]
  },
  {
   "cell_type": "markdown",
   "metadata": {},
   "source": [
    "<h2>Dans le troisième bloc ci-dessous, saisir un script permettant de créer des listes de valeur des quantités de matières d'eau oxygénée, d'ions iodure et de diiode en fonction de l'évoluation de l'avancement qui s'incrémente de dx en dx.\n",
    "<br>Il est possible d'utiliser plus de lignes que celles proposées.</h2>"
   ]
  },
  {
   "cell_type": "code",
   "execution_count": null,
   "metadata": {},
   "outputs": [],
   "source": [
    "'''\n",
    "Script pour stocker dans les listes les valeurs des qtés de matière\n",
    "de H2O2, I-, I2 au fur et à mesure que x augmente par pas de dx\n",
    "'''\n",
    "\n",
    "\n",
    "\n",
    "\n",
    "\n",
    "\n",
    "'''\n",
    "Fin du script\n",
    "'''"
   ]
  },
  {
   "cell_type": "markdown",
   "metadata": {},
   "source": [
    "<h2>Dans le quatrième bloc ci-dessous, remplacer les $$ par une saisie adaptée.</h2>"
   ]
  },
  {
   "cell_type": "code",
   "execution_count": null,
   "metadata": {},
   "outputs": [],
   "source": [
    "#détermination de la valeur de l'avancement maximal et bilan de matière à l'état final\n",
    "xmax=$$\n",
    "nf_H2O2=$$\n",
    "nf_iodure=$$\n",
    "nf_diiode=$$"
   ]
  },
  {
   "cell_type": "markdown",
   "metadata": {},
   "source": [
    "<h2>Dans le cinquième bloc ci-dessous, remplacer les $$ par une saisie adaptée afin que les résultats chiffrées apparaissent en notation scientifique avec 2 décimales.</h2>"
   ]
  },
  {
   "cell_type": "code",
   "execution_count": null,
   "metadata": {},
   "outputs": [],
   "source": [
    "#Affichage des valeurs de xmax et des quantités de matières à l'état final\n",
    "print()\n",
    "print(\"L''avancement maximal xmax vaut : xmax = \",$$,\" mol\")\n",
    "print(\"Quantité de matière de H2O2 à l'état finale nf_H2O2 = \",$$,\" mol\")\n",
    "print(\"Quantité de matière d''ions iodure à l'état finale nf_iodure = \",$$,\" mol\")\n",
    "print(\"Quantité de matière de diiode à l'état finale nf_diiode = \",$$,\" mol\")\n"
   ]
  },
  {
   "cell_type": "markdown",
   "metadata": {},
   "source": [
    "<h2>Dans ce sixième et dernier bloc, remplacer les $$ par une saisie adaptée.</h2>"
   ]
  },
  {
   "cell_type": "code",
   "execution_count": null,
   "metadata": {},
   "outputs": [],
   "source": [
    "#Affichage de la représentation graphique de l'évolution des quantités de matière en fonction de x\n",
    "plt.plot($$,$$,$$,label = \"H2O2\") #affichage de la qté de H2O2 en fonction de x avec droite trait plein en rouge\n",
    "plt.plot($$,$$,$$, label = \"I-\") #affichage de la qté de I- en fonction de x avec droite pointillé en vert\n",
    "plt.plot($$,$$,$$,label = \"I2\") #affichage de la qté de I2 en fonction de x avec droite en étoiles en bleu\n",
    "plt.title($$) #Titre du graphique\n",
    "plt.xlabel($$) #titre de l'axe des abscisses\n",
    "plt.ylabel($$) #titre de l'axe des ordonnées\n",
    "$$ #afficher la légende des courbes\n",
    "plt.grid() #afficher une grille\n",
    "plt.show() #afficher le graphique\n"
   ]
  }
 ],
 "metadata": {
  "kernelspec": {
   "display_name": "Python 3 (ipykernel)",
   "language": "python",
   "name": "python3"
  },
  "language_info": {
   "codemirror_mode": {
    "name": "ipython",
    "version": 3
   },
   "file_extension": ".py",
   "mimetype": "text/x-python",
   "name": "python",
   "nbconvert_exporter": "python",
   "pygments_lexer": "ipython3",
   "version": "3.11.0"
  }
 },
 "nbformat": 4,
 "nbformat_minor": 2
}
